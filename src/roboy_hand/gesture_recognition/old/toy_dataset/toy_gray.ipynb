{
 "cells": [
  {
   "cell_type": "code",
   "execution_count": 1,
   "metadata": {
    "collapsed": true
   },
   "outputs": [],
   "source": [
    "import os\n",
    "import sys\n",
    "import glob\n",
    "import torch\n",
    "import torch.nn as nn\n",
    "import torch.nn.functional as F\n",
    "import torch.optim as optim\n",
    "from torch.autograd import Variable\n",
    "\n",
    "import numpy as np\n",
    "\n",
    "from skimage import io, transform, color\n",
    "from matplotlib import pyplot as plt\n",
    "from sklearn.model_selection import train_test_split\n",
    "\n",
    "#Dataset\n",
    "import torch.utils.data as utils\n",
    "\n",
    "#Import PyTorch Models\n",
    "path = os.path.join(os.path.dirname(os.path.abspath('__file__')), \"models\")\n",
    "sys.path.append(path)\n",
    "from models import *\n",
    "\n",
    "#To deepcopy best model\n",
    "import copy\n",
    "\n",
    "#Get root path\n",
    "root_path = os.path.join(os.path.dirname(os.path.abspath('__file__')), \"Marcel-Train\")\n",
    "f_id = [\"A\", \"B\", \"C\", \"Five\", \"Point\", \"V\"]\n",
    "\n",
    "#Find files inside the path\n",
    "files = glob.glob(os.path.join(root_path, \"A\", \"*.ppm\"))"
   ]
  },
  {
   "cell_type": "code",
   "execution_count": 2,
   "metadata": {},
   "outputs": [
    {
     "name": "stderr",
     "output_type": "stream",
     "text": [
      "C:\\Anaconda3\\lib\\site-packages\\skimage\\io\\_plugins\\matplotlib_plugin.py:51: FutureWarning: Conversion of the second argument of issubdtype from `float` to `np.floating` is deprecated. In future, it will be treated as `np.float64 == np.dtype(float).type`.\n",
      "  out_of_range_float = (np.issubdtype(image.dtype, np.float) and\n"
     ]
    },
    {
     "data": {
      "image/png": "[encoded data removed]",
      "text/plain": [
       "<matplotlib.figure.Figure at 0x1799ad0b4e0>"
      ]
     },
     "metadata": {},
     "output_type": "display_data"
    }
   ],
   "source": [
    "#Show a sample image\n",
    "img = io.imread(\"C:/Users/Bilal/git/gesture_recog_toy/Marcel-Train/A/A-train0001.ppm\")\n",
    "io.imshow(img)\n",
    "plt.show()"
   ]
  },
  {
   "cell_type": "code",
   "execution_count": 3,
   "metadata": {},
   "outputs": [
    {
     "name": "stderr",
     "output_type": "stream",
     "text": [
      "C:\\Anaconda3\\lib\\site-packages\\skimage\\transform\\_warps.py:84: UserWarning: The default mode, 'constant', will be changed to 'reflect' in skimage 0.15.\n",
      "  warn(\"The default mode, 'constant', will be changed to 'reflect' in \"\n"
     ]
    }
   ],
   "source": [
    "#Read train and validation dataset\n",
    "dataset = []\n",
    "labels = []\n",
    "\n",
    "#Go inside each f_id directory\n",
    "for i in range(len(f_id)):\n",
    "    #Find image paths\n",
    "    path = os.path.join(root_path, f_id[i])\n",
    "    image_names = glob.glob(os.path.join(path, \"*.ppm\"))\n",
    "    \n",
    "    counter=0\n",
    "    for img_path in image_names:\n",
    "        \n",
    "        #Read image from image path\n",
    "        img = io.imread(img_path)\n",
    "        \n",
    "        img = color.rgb2gray(img)\n",
    "        img = np.dstack([img]*3)\n",
    "\n",
    "        #Resize each image to (64,64,3)\n",
    "        img = transform.resize(img, (64, 64))\n",
    "        \n",
    "        #Transpose image to C, H, W\n",
    "        img = img.transpose((2,0,1))\n",
    "\n",
    "        #Add image to dataset\n",
    "        dataset.append(img)\n",
    "        \n",
    "        #Add to labels\n",
    "        labels.append(i)"
   ]
  },
  {
   "cell_type": "code",
   "execution_count": 4,
   "metadata": {},
   "outputs": [
    {
     "name": "stderr",
     "output_type": "stream",
     "text": [
      "C:\\Anaconda3\\lib\\site-packages\\skimage\\transform\\_warps.py:84: UserWarning: The default mode, 'constant', will be changed to 'reflect' in skimage 0.15.\n",
      "  warn(\"The default mode, 'constant', will be changed to 'reflect' in \"\n"
     ]
    }
   ],
   "source": [
    "#Read test data\n",
    "\n",
    "#Get root path\n",
    "root_path = os.path.join(os.path.dirname(os.path.abspath('__file__')), \"Marcel-Test\")\n",
    "f_id = [\"A\", \"B\", \"C\", \"Five\", \"Point\", \"V\"]\n",
    "type_id = ['complex', 'uniform']\n",
    "\n",
    "test_dataset = []\n",
    "test_labels = []\n",
    "\n",
    "#Go inside each f_id directory and type_id directory\n",
    "for i in range(len(f_id)):\n",
    "    for j in range(len(type_id)):\n",
    "        #Find image paths\n",
    "        path = os.path.join(root_path, f_id[i], type_id[j])\n",
    "        image_names = glob.glob(os.path.join(path, \"*.ppm\"))\n",
    "        \n",
    "        for img_path in image_names:\n",
    "            #Read image from image path\n",
    "            img = io.imread(img_path)\n",
    "            \n",
    "            img = color.rgb2gray(img)\n",
    "            img = np.dstack([img]*3)\n",
    "            \n",
    "            #Resize each image to (64,64,3)\n",
    "            img = transform.resize(img, (64, 64))\n",
    "\n",
    "            #Transpose image to C, H, W\n",
    "            img = img.transpose((2,0,1))\n",
    "\n",
    "            #Add image to dataset\n",
    "            test_dataset.append(img)\n",
    "\n",
    "            #Add to labels\n",
    "            test_labels.append(i)"
   ]
  },
  {
   "cell_type": "code",
   "execution_count": 5,
   "metadata": {},
   "outputs": [
    {
     "name": "stdout",
     "output_type": "stream",
     "text": [
      "Train set mean: 0.49167635707104107  std: 0.21981289860036832\n"
     ]
    }
   ],
   "source": [
    "dataset = np.array(dataset).astype(float)\n",
    "labels = np.array(labels).astype(float)\n",
    "\n",
    "test_dataset = np.array(test_dataset).astype(float)\n",
    "test_labels = np.array(test_labels).astype(float)\n",
    "\n",
    "#Split dataset into train, validation and test sets\n",
    "X_val, X_train, y_val, y_train = train_test_split(dataset, labels, test_size=0.8)\n",
    "X_test, y_test = test_dataset, test_labels\n",
    "\n",
    "#Calculate mean and std of train set\n",
    "mean = np.mean(X_train)\n",
    "std = np.std(X_train)\n",
    "print(\"Train set mean:\", mean, \" std:\", std)"
   ]
  },
  {
   "cell_type": "code",
   "execution_count": 6,
   "metadata": {
    "collapsed": true
   },
   "outputs": [],
   "source": [
    "#Normalize datasets\n",
    "X_train_normalized = (X_train - mean) / std\n",
    "X_val_normalized = (X_val - mean) / std\n",
    "X_test_normalized = (X_test - mean) / std"
   ]
  },
  {
   "cell_type": "code",
   "execution_count": 7,
   "metadata": {
    "collapsed": true
   },
   "outputs": [],
   "source": [
    "#Convert to torch\n",
    "X_train_torch = torch.from_numpy(X_train_normalized).float()\n",
    "X_val_torch = torch.from_numpy(X_val_normalized).float()\n",
    "X_test_torch = torch.from_numpy(X_test_normalized).float()\n",
    "\n",
    "y_train_torch = torch.from_numpy(y_train).float()\n",
    "y_val_torch = torch.from_numpy(y_val).float()\n",
    "y_test_torch = torch.from_numpy(y_test).float()"
   ]
  },
  {
   "cell_type": "code",
   "execution_count": 8,
   "metadata": {
    "collapsed": true
   },
   "outputs": [],
   "source": [
    "#Get torch data loaders\n",
    "train_dataset = utils.TensorDataset(X_train_torch, y_train_torch) # create your dataset\n",
    "train_loader = utils.DataLoader(train_dataset, batch_size=10, shuffle=True, num_workers=4) # create your dataloader\n",
    "\n",
    "val_dataset = utils.TensorDataset(X_val_torch, y_val_torch) # create your dataset\n",
    "val_loader = utils.DataLoader(val_dataset, batch_size=10, shuffle=True, num_workers=4) # create your dataloader\n",
    "\n",
    "test_dataset = utils.TensorDataset(X_test_torch, y_test_torch) # create your dataset\n",
    "test_loader = utils.DataLoader(test_dataset, batch_size=10, shuffle=True, num_workers=4) # create your dataloader"
   ]
  },
  {
   "cell_type": "code",
   "execution_count": 9,
   "metadata": {
    "collapsed": true
   },
   "outputs": [],
   "source": [
    "#Create NN model\n",
    "model = VGG('VGG16')\n",
    "\n",
    "#Target has to be LongSensor for CrossEntropyLoss\n",
    "criterion = nn.CrossEntropyLoss()\n",
    "\n",
    "optimizer = torch.optim.Adam(model.parameters(), lr=1e-6, betas=(0.9, 0.999), eps=1e-8, weight_decay=5e-4)"
   ]
  },
  {
   "cell_type": "code",
   "execution_count": 12,
   "metadata": {
    "scrolled": true
   },
   "outputs": [
    {
     "name": "stdout",
     "output_type": "stream",
     "text": [
      "[1] Train loss: 0.879,  Train acc: 0.748\n",
      "[1] Validation loss: 0.883,  Validation acc: 0.713\n",
      "[2] Train loss: 0.763,  Train acc: 0.810\n",
      "[2] Validation loss: 0.780,  Validation acc: 0.776\n",
      "[3] Train loss: 0.663,  Train acc: 0.859\n",
      "[3] Validation loss: 0.691,  Validation acc: 0.810\n",
      "[4] Train loss: 0.573,  Train acc: 0.893\n",
      "[4] Validation loss: 0.619,  Validation acc: 0.844\n",
      "[5] Train loss: 0.487,  Train acc: 0.918\n",
      "[5] Validation loss: 0.549,  Validation acc: 0.855\n",
      "[6] Train loss: 0.415,  Train acc: 0.938\n",
      "[6] Validation loss: 0.488,  Validation acc: 0.866\n",
      "[7] Train loss: 0.351,  Train acc: 0.948\n",
      "[7] Validation loss: 0.439,  Validation acc: 0.895\n",
      "[8] Train loss: 0.301,  Train acc: 0.957\n",
      "[8] Validation loss: 0.389,  Validation acc: 0.913\n",
      "[9] Train loss: 0.251,  Train acc: 0.969\n",
      "[9] Validation loss: 0.344,  Validation acc: 0.924\n",
      "[10] Train loss: 0.212,  Train acc: 0.976\n",
      "[10] Validation loss: 0.314,  Validation acc: 0.933\n",
      "[11] Train loss: 0.176,  Train acc: 0.982\n",
      "[11] Validation loss: 0.281,  Validation acc: 0.942\n",
      "[12] Train loss: 0.149,  Train acc: 0.988\n",
      "[12] Validation loss: 0.265,  Validation acc: 0.932\n",
      "[13] Train loss: 0.124,  Train acc: 0.989\n",
      "[13] Validation loss: 0.234,  Validation acc: 0.946\n",
      "[14] Train loss: 0.101,  Train acc: 0.994\n",
      "[14] Validation loss: 0.222,  Validation acc: 0.946\n",
      "[15] Train loss: 0.085,  Train acc: 0.996\n",
      "[15] Validation loss: 0.200,  Validation acc: 0.944\n",
      "[16] Train loss: 0.069,  Train acc: 0.999\n",
      "[16] Validation loss: 0.189,  Validation acc: 0.948\n",
      "[17] Train loss: 0.060,  Train acc: 0.999\n",
      "[17] Validation loss: 0.174,  Validation acc: 0.951\n",
      "[18] Train loss: 0.051,  Train acc: 0.996\n",
      "[18] Validation loss: 0.167,  Validation acc: 0.953\n",
      "[19] Train loss: 0.042,  Train acc: 0.999\n",
      "[19] Validation loss: 0.165,  Validation acc: 0.953\n",
      "[20] Train loss: 0.035,  Train acc: 0.999\n",
      "[20] Validation loss: 0.152,  Validation acc: 0.956\n",
      "[21] Train loss: 0.029,  Train acc: 1.000\n",
      "[21] Validation loss: 0.144,  Validation acc: 0.958\n",
      "[22] Train loss: 0.023,  Train acc: 1.000\n",
      "[22] Validation loss: 0.137,  Validation acc: 0.956\n",
      "[23] Train loss: 0.020,  Train acc: 1.000\n",
      "[23] Validation loss: 0.136,  Validation acc: 0.955\n",
      "[24] Train loss: 0.017,  Train acc: 1.000\n",
      "[24] Validation loss: 0.129,  Validation acc: 0.956\n",
      "[25] Train loss: 0.015,  Train acc: 1.000\n",
      "[25] Validation loss: 0.123,  Validation acc: 0.960\n",
      "[26] Train loss: 0.013,  Train acc: 1.000\n",
      "[26] Validation loss: 0.123,  Validation acc: 0.958\n",
      "[27] Train loss: 0.010,  Train acc: 1.000\n",
      "[27] Validation loss: 0.122,  Validation acc: 0.958\n",
      "[28] Train loss: 0.010,  Train acc: 1.000\n",
      "[28] Validation loss: 0.114,  Validation acc: 0.960\n",
      "[29] Train loss: 0.009,  Train acc: 0.999\n",
      "[29] Validation loss: 0.112,  Validation acc: 0.962\n",
      "[30] Train loss: 0.008,  Train acc: 1.000\n",
      "[30] Validation loss: 0.120,  Validation acc: 0.955\n",
      "[31] Train loss: 0.006,  Train acc: 1.000\n",
      "[31] Validation loss: 0.112,  Validation acc: 0.962\n",
      "[32] Train loss: 0.005,  Train acc: 1.000\n",
      "[32] Validation loss: 0.110,  Validation acc: 0.963\n",
      "[33] Train loss: 0.004,  Train acc: 1.000\n",
      "[33] Validation loss: 0.110,  Validation acc: 0.960\n",
      "[34] Train loss: 0.004,  Train acc: 1.000\n",
      "[34] Validation loss: 0.109,  Validation acc: 0.961\n",
      "[35] Train loss: 0.003,  Train acc: 1.000\n",
      "[35] Validation loss: 0.104,  Validation acc: 0.966\n",
      "[36] Train loss: 0.003,  Train acc: 1.000\n",
      "[36] Validation loss: 0.103,  Validation acc: 0.961\n",
      "[37] Train loss: 0.004,  Train acc: 1.000\n",
      "[37] Validation loss: 0.103,  Validation acc: 0.962\n",
      "[38] Train loss: 0.003,  Train acc: 1.000\n",
      "[38] Validation loss: 0.106,  Validation acc: 0.962\n",
      "[39] Train loss: 0.002,  Train acc: 1.000\n",
      "[39] Validation loss: 0.101,  Validation acc: 0.962\n",
      "[40] Train loss: 0.002,  Train acc: 1.000\n",
      "[40] Validation loss: 0.107,  Validation acc: 0.964\n",
      "[41] Train loss: 0.002,  Train acc: 1.000\n",
      "[41] Validation loss: 0.102,  Validation acc: 0.961\n",
      "[42] Train loss: 0.002,  Train acc: 1.000\n",
      "[42] Validation loss: 0.101,  Validation acc: 0.964\n",
      "[43] Train loss: 0.001,  Train acc: 1.000\n",
      "[43] Validation loss: 0.108,  Validation acc: 0.963\n",
      "[44] Train loss: 0.001,  Train acc: 1.000\n",
      "[44] Validation loss: 0.105,  Validation acc: 0.962\n",
      "[45] Train loss: 0.002,  Train acc: 1.000\n",
      "[45] Validation loss: 0.104,  Validation acc: 0.955\n",
      "[46] Train loss: 0.001,  Train acc: 1.000\n",
      "[46] Validation loss: 0.102,  Validation acc: 0.962\n",
      "[47] Train loss: 0.001,  Train acc: 1.000\n",
      "[47] Validation loss: 0.100,  Validation acc: 0.965\n",
      "[48] Train loss: 0.001,  Train acc: 1.000\n",
      "[48] Validation loss: 0.101,  Validation acc: 0.964\n",
      "[49] Train loss: 0.001,  Train acc: 1.000\n",
      "[49] Validation loss: 0.098,  Validation acc: 0.964\n",
      "[50] Train loss: 0.001,  Train acc: 1.000\n",
      "[50] Validation loss: 0.110,  Validation acc: 0.962\n"
     ]
    }
   ],
   "source": [
    "#Initialize parameters\n",
    "train_loss_history = []\n",
    "train_acc_history = []\n",
    "val_loss_history = []\n",
    "val_acc_history = []\n",
    "\n",
    "num_epochs = 50\n",
    "iter_per_epoch = len(train_loader)\n",
    "\n",
    "best_loss = np.inf\n",
    "\n",
    "if torch.cuda.is_available():\n",
    "    model.cuda()\n",
    "    \n",
    "for epoch in range(num_epochs):\n",
    "    \n",
    "    #TRAIN\n",
    "    running_loss = 0.0\n",
    "    train_acc = 0.0\n",
    "    \n",
    "    model.train()\n",
    "    for i, (inputs, targets) in enumerate(train_loader):\n",
    "        inputs, targets = Variable(inputs), Variable(targets)\n",
    "        \n",
    "        if torch.cuda.is_available():\n",
    "            inputs, targets = inputs.cuda(), targets.cuda().long()\n",
    "            \n",
    "        # zero the parameter gradients\n",
    "        optimizer.zero_grad()\n",
    "\n",
    "        # forward + backward + optimize\n",
    "        outputs = model(inputs)\n",
    "        loss = criterion(outputs, targets)\n",
    "        loss.backward()\n",
    "        optimizer.step()\n",
    "        \n",
    "        # print statistics\n",
    "        running_loss += loss.item()\n",
    "        \n",
    "        _, preds = torch.max(outputs, 1)\n",
    "\n",
    "        train_acc += np.mean((preds == targets).data.cpu().numpy())\n",
    "        \n",
    "    train_acc /= i + 1\n",
    "    running_loss /= i + 1\n",
    "    train_acc_history.append(train_acc)\n",
    "    train_loss_history.append(running_loss)\n",
    "    \n",
    "    print('[%d] Train loss: %.3f,  Train acc: %.3f' %\n",
    "          (epoch + 1, running_loss,  train_acc))\n",
    "    \n",
    "    #VALIDATION\n",
    "    val_running_loss = 0.0\n",
    "    val_acc = 0.0\n",
    "    \n",
    "    model.eval()\n",
    "    for j, (val_inputs, val_targets) in enumerate(val_loader):\n",
    "        val_inputs, val_targets = Variable(val_inputs), Variable(val_targets)\n",
    "        \n",
    "        if torch.cuda.is_available():\n",
    "            val_inputs, val_targets = val_inputs.cuda(), val_targets.cuda().long()\n",
    "\n",
    "        # forward\n",
    "        val_outputs = model(val_inputs)\n",
    "        val_loss = criterion(val_outputs, val_targets)\n",
    "        \n",
    "        # print statistics\n",
    "        val_running_loss += val_loss.item()\n",
    "        \n",
    "        _, val_preds = torch.max(val_outputs, 1)\n",
    "\n",
    "        val_acc += np.mean((val_preds == val_targets).data.cpu().numpy())\n",
    "        \n",
    "    val_acc /= j + 1\n",
    "    val_running_loss /= j + 1\n",
    "    val_acc_history.append(val_acc)\n",
    "    val_loss_history.append(val_running_loss)\n",
    "        \n",
    "    print('[%d] Validation loss: %.3f,  Validation acc: %.3f' %\n",
    "          (epoch + 1, val_running_loss,  val_acc))\n",
    "    \n",
    "    if val_running_loss < best_loss:\n",
    "        best_loss = val_running_loss\n",
    "        best_model = copy.deepcopy(model)"
   ]
  },
  {
   "cell_type": "code",
   "execution_count": 13,
   "metadata": {
    "collapsed": true
   },
   "outputs": [],
   "source": [
    "#Timestamp\n",
    "import datetime\n",
    "\n",
    "#Save model\n",
    "currentDT = datetime.datetime.now().strftime('%Y-%m-%d_%H-%M-%S')\n",
    "path = os.path.join(os.path.dirname(os.path.abspath('__file__')), \"saved_models\", \"vgg_gray_\" + str(num_epochs) + \"_\" + currentDT + \".model\")\n",
    "torch.save(best_model.state_dict(), path)"
   ]
  },
  {
   "cell_type": "code",
   "execution_count": 14,
   "metadata": {},
   "outputs": [
    {
     "data": {
      "image/png": "[encoded data removed]",
      "text/plain": [
       "<matplotlib.figure.Figure at 0x179a4d847f0>"
      ]
     },
     "metadata": {},
     "output_type": "display_data"
    },
    {
     "data": {
      "image/png": "[encoded data removed]",
      "text/plain": [
       "<matplotlib.figure.Figure at 0x179bfc2ce48>"
      ]
     },
     "metadata": {},
     "output_type": "display_data"
    }
   ],
   "source": [
    "plt.plot(train_loss_history, '-o')\n",
    "plt.plot(val_loss_history, '-o')\n",
    "plt.xlabel('iteration')\n",
    "plt.ylabel('loss')\n",
    "plt.show()\n",
    "\n",
    "plt.plot(train_acc_history, '-o')\n",
    "plt.plot(val_acc_history, '-o')\n",
    "plt.legend(['train', 'val'], loc='upper left')\n",
    "plt.xlabel('epoch')\n",
    "plt.ylabel('accuracy')\n",
    "plt.show()"
   ]
  },
  {
   "cell_type": "code",
   "execution_count": 15,
   "metadata": {},
   "outputs": [
    {
     "name": "stdout",
     "output_type": "stream",
     "text": [
      "Test loss: 1.994,  Test acc: 0.391\n"
     ]
    }
   ],
   "source": [
    "#TEST\n",
    "test_acc = 0.0\n",
    "test_running_loss = 0.0\n",
    "\n",
    "best_model.eval()\n",
    "for i, (test_inputs, test_targets) in enumerate(test_loader):\n",
    "    test_inputs, test_targets = Variable(test_inputs), Variable(test_targets)\n",
    "\n",
    "    if torch.cuda.is_available():\n",
    "        test_inputs, test_targets = test_inputs.cuda(), test_targets.cuda().long()\n",
    "\n",
    "    # forward\n",
    "    test_outputs = best_model(test_inputs)\n",
    "    test_loss = criterion(test_outputs, test_targets)\n",
    "\n",
    "    # print statistics\n",
    "    test_running_loss += test_loss.item()\n",
    "\n",
    "    _, test_preds = torch.max(test_outputs, 1)\n",
    "\n",
    "    test_acc += np.mean((test_preds == test_targets).data.cpu().numpy())\n",
    "\n",
    "test_acc /= i + 1\n",
    "test_running_loss /= i + 1\n",
    "\n",
    "print('Test loss: %.3f,  Test acc: %.3f' %\n",
    "          (test_running_loss,  test_acc))"
   ]
  },
  {
   "cell_type": "code",
   "execution_count": null,
   "metadata": {
    "collapsed": true
   },
   "outputs": [],
   "source": []
  }
 ],
 "metadata": {
  "kernelspec": {
   "display_name": "Python 3",
   "language": "python",
   "name": "python3"
  },
  "language_info": {
   "codemirror_mode": {
    "name": "ipython",
    "version": 3
   },
   "file_extension": ".py",
   "mimetype": "text/x-python",
   "name": "python",
   "nbconvert_exporter": "python",
   "pygments_lexer": "ipython3",
   "version": "3.6.3"
  }
 },
 "nbformat": 4,
 "nbformat_minor": 2
}
