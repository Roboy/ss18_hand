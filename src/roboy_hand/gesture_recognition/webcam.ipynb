{
 "cells": [
  {
   "cell_type": "code",
   "execution_count": 1,
   "metadata": {},
   "outputs": [],
   "source": [
    "#PyTorch imports\n",
    "import torch\n",
    "import torch.nn as nn\n",
    "import torch.nn.functional as F\n",
    "import torch.optim as optim\n",
    "from torch.autograd import Variable\n",
    "\n",
    "import os\n",
    "import sys\n",
    "\n",
    "import cv2\n",
    "from skimage import io, transform\n",
    "import numpy as np"
   ]
  },
  {
   "cell_type": "code",
   "execution_count": 2,
   "metadata": {},
   "outputs": [],
   "source": [
    "#PyTorch Models\n",
    "path = os.path.join(os.path.dirname(os.path.abspath('__file__')), \"models\")\n",
    "sys.path.append(path)\n",
    "from models import *"
   ]
  },
  {
   "cell_type": "code",
   "execution_count": 3,
   "metadata": {},
   "outputs": [],
   "source": [
    "model = ResNet152()\n",
    "if torch.cuda.is_available():\n",
    "    model = model.cuda()\n",
    "    \n",
    "path = \"/home/bilal/ss18_hand/src/roboy_hand/gesture_recognition/saved_models/resnet_rgb_100_2018-07-04_06-59-19.model\"\n",
    "model.load_state_dict(torch.load(path))"
   ]
  },
  {
   "cell_type": "code",
   "execution_count": 4,
   "metadata": {},
   "outputs": [],
   "source": [
    "font                   = cv2.FONT_HERSHEY_SIMPLEX\n",
    "bottomLeftCornerOfText = (0, 50)\n",
    "fontScale              = 0.4\n",
    "fontColor              = (255, 255, 255)\n",
    "lineType               = 1"
   ]
  },
  {
   "cell_type": "code",
   "execution_count": 5,
   "metadata": {},
   "outputs": [
    {
     "name": "stderr",
     "output_type": "stream",
     "text": [
      "/home/bilal/anaconda3/lib/python3.6/site-packages/skimage/transform/_warps.py:84: UserWarning: The default mode, 'constant', will be changed to 'reflect' in skimage 0.15.\n",
      "  warn(\"The default mode, 'constant', will be changed to 'reflect' in \"\n"
     ]
    }
   ],
   "source": [
    "cv2.startWindowThread()\n",
    "cam = cv2.VideoCapture(0)\n",
    "while True:\n",
    "    ret_val, img_org = cam.read()\n",
    "    if ret_val != -1:\n",
    "        img = transform.resize(img_org, (32, 32))\n",
    "\n",
    "        img = np.moveaxis(img, [0, 1, 2], [1, 2, 0])\n",
    "\n",
    "        img = torch.from_numpy(img).float()\n",
    "\n",
    "        if torch.cuda.is_available():\n",
    "            img = img.cuda()\n",
    "        outputs = model.forward(img.unsqueeze_(0))\n",
    "        \n",
    "        _, preds = torch.max(outputs, 1)\n",
    "        \n",
    "        #str(outputs.data.cpu().numpy()[0])\n",
    "        cv2.putText(img_org, str(preds.data.cpu().numpy()[0]), bottomLeftCornerOfText, font, fontScale, fontColor, lineType)\n",
    "        cv2.imshow(\"Image\", img_org)\n",
    "        #print(outputs)\n",
    "    if cv2.waitKey(1) == 27:\n",
    "        cam.release()\n",
    "        break  # esc to quit\n",
    "cv2.destroyAllWindows()"
   ]
  },
  {
   "cell_type": "code",
   "execution_count": null,
   "metadata": {},
   "outputs": [],
   "source": []
  }
 ],
 "metadata": {
  "kernelspec": {
   "display_name": "Python 3",
   "language": "python",
   "name": "python3"
  },
  "language_info": {
   "codemirror_mode": {
    "name": "ipython",
    "version": 3
   },
   "file_extension": ".py",
   "mimetype": "text/x-python",
   "name": "python",
   "nbconvert_exporter": "python",
   "pygments_lexer": "ipython3",
   "version": "3.6.5"
  }
 },
 "nbformat": 4,
 "nbformat_minor": 2
}
